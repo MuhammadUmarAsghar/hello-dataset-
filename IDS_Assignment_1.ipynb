{
 "cells": [
  {
   "cell_type": "code",
   "execution_count": 31,
   "metadata": {
    "id": "VrJJhWtpE1AP"
   },
   "outputs": [],
   "source": [
    "import matplotlib.pyplot as plt\n",
    "import numpy as np\n",
    "import re\n",
    "import pandas as pd"
   ]
  },
  {
   "cell_type": "code",
   "execution_count": null,
   "metadata": {
    "id": "3feJwDSyLD82"
   },
   "outputs": [],
   "source": [
    "dataframe = pd.read_csv('dataset.csv')"
   ]
  },
  {
   "cell_type": "code",
   "execution_count": 88,
   "metadata": {
    "colab": {
     "base_uri": "https://localhost:8080/",
     "height": 363
    },
    "id": "06h4nHHT_6rv",
    "outputId": "cb51d04e-dd65-4ab8-e777-ac586f3f7149"
   },
   "outputs": [
    {
     "data": {
      "text/html": [
       "\n",
       "  <div id=\"df-1b71ba8a-05af-4341-ba38-aa8e55c03a0e\">\n",
       "    <div class=\"colab-df-container\">\n",
       "      <div>\n",
       "<style scoped>\n",
       "    .dataframe tbody tr th:only-of-type {\n",
       "        vertical-align: middle;\n",
       "    }\n",
       "\n",
       "    .dataframe tbody tr th {\n",
       "        vertical-align: top;\n",
       "    }\n",
       "\n",
       "    .dataframe thead th {\n",
       "        text-align: right;\n",
       "    }\n",
       "</style>\n",
       "<table border=\"1\" class=\"dataframe\">\n",
       "  <thead>\n",
       "    <tr style=\"text-align: right;\">\n",
       "      <th></th>\n",
       "      <th>0</th>\n",
       "    </tr>\n",
       "  </thead>\n",
       "  <tbody>\n",
       "    <tr>\n",
       "      <th>0</th>\n",
       "      <td>Hamza Naveed</td>\n",
       "    </tr>\n",
       "    <tr>\n",
       "      <th>1</th>\n",
       "      <td>Habib Ullah</td>\n",
       "    </tr>\n",
       "    <tr>\n",
       "      <th>2</th>\n",
       "      <td>Hunain Javed</td>\n",
       "    </tr>\n",
       "    <tr>\n",
       "      <th>3</th>\n",
       "      <td>Hafiz Malahim Labib.</td>\n",
       "    </tr>\n",
       "    <tr>\n",
       "      <th>4</th>\n",
       "      <td>Hamna Tariq Saleemi</td>\n",
       "    </tr>\n",
       "    <tr>\n",
       "      <th>5</th>\n",
       "      <td>Hina</td>\n",
       "    </tr>\n",
       "    <tr>\n",
       "      <th>6</th>\n",
       "      <td>Hamza Javed Khan</td>\n",
       "    </tr>\n",
       "    <tr>\n",
       "      <th>7</th>\n",
       "      <td>Husnain Ahmed</td>\n",
       "    </tr>\n",
       "    <tr>\n",
       "      <th>8</th>\n",
       "      <td>Hamayoun Masroor</td>\n",
       "    </tr>\n",
       "    <tr>\n",
       "      <th>9</th>\n",
       "      <td>Hussain afzal</td>\n",
       "    </tr>\n",
       "  </tbody>\n",
       "</table>\n",
       "</div>\n",
       "      <button class=\"colab-df-convert\" onclick=\"convertToInteractive('df-1b71ba8a-05af-4341-ba38-aa8e55c03a0e')\"\n",
       "              title=\"Convert this dataframe to an interactive table.\"\n",
       "              style=\"display:none;\">\n",
       "        \n",
       "  <svg xmlns=\"http://www.w3.org/2000/svg\" height=\"24px\"viewBox=\"0 0 24 24\"\n",
       "       width=\"24px\">\n",
       "    <path d=\"M0 0h24v24H0V0z\" fill=\"none\"/>\n",
       "    <path d=\"M18.56 5.44l.94 2.06.94-2.06 2.06-.94-2.06-.94-.94-2.06-.94 2.06-2.06.94zm-11 1L8.5 8.5l.94-2.06 2.06-.94-2.06-.94L8.5 2.5l-.94 2.06-2.06.94zm10 10l.94 2.06.94-2.06 2.06-.94-2.06-.94-.94-2.06-.94 2.06-2.06.94z\"/><path d=\"M17.41 7.96l-1.37-1.37c-.4-.4-.92-.59-1.43-.59-.52 0-1.04.2-1.43.59L10.3 9.45l-7.72 7.72c-.78.78-.78 2.05 0 2.83L4 21.41c.39.39.9.59 1.41.59.51 0 1.02-.2 1.41-.59l7.78-7.78 2.81-2.81c.8-.78.8-2.07 0-2.86zM5.41 20L4 18.59l7.72-7.72 1.47 1.35L5.41 20z\"/>\n",
       "  </svg>\n",
       "      </button>\n",
       "      \n",
       "  <style>\n",
       "    .colab-df-container {\n",
       "      display:flex;\n",
       "      flex-wrap:wrap;\n",
       "      gap: 12px;\n",
       "    }\n",
       "\n",
       "    .colab-df-convert {\n",
       "      background-color: #E8F0FE;\n",
       "      border: none;\n",
       "      border-radius: 50%;\n",
       "      cursor: pointer;\n",
       "      display: none;\n",
       "      fill: #1967D2;\n",
       "      height: 32px;\n",
       "      padding: 0 0 0 0;\n",
       "      width: 32px;\n",
       "    }\n",
       "\n",
       "    .colab-df-convert:hover {\n",
       "      background-color: #E2EBFA;\n",
       "      box-shadow: 0px 1px 2px rgba(60, 64, 67, 0.3), 0px 1px 3px 1px rgba(60, 64, 67, 0.15);\n",
       "      fill: #174EA6;\n",
       "    }\n",
       "\n",
       "    [theme=dark] .colab-df-convert {\n",
       "      background-color: #3B4455;\n",
       "      fill: #D2E3FC;\n",
       "    }\n",
       "\n",
       "    [theme=dark] .colab-df-convert:hover {\n",
       "      background-color: #434B5C;\n",
       "      box-shadow: 0px 1px 3px 1px rgba(0, 0, 0, 0.15);\n",
       "      filter: drop-shadow(0px 1px 2px rgba(0, 0, 0, 0.3));\n",
       "      fill: #FFFFFF;\n",
       "    }\n",
       "  </style>\n",
       "\n",
       "      <script>\n",
       "        const buttonEl =\n",
       "          document.querySelector('#df-1b71ba8a-05af-4341-ba38-aa8e55c03a0e button.colab-df-convert');\n",
       "        buttonEl.style.display =\n",
       "          google.colab.kernel.accessAllowed ? 'block' : 'none';\n",
       "\n",
       "        async function convertToInteractive(key) {\n",
       "          const element = document.querySelector('#df-1b71ba8a-05af-4341-ba38-aa8e55c03a0e');\n",
       "          const dataTable =\n",
       "            await google.colab.kernel.invokeFunction('convertToInteractive',\n",
       "                                                     [key], {});\n",
       "          if (!dataTable) return;\n",
       "\n",
       "          const docLinkHtml = 'Like what you see? Visit the ' +\n",
       "            '<a target=\"_blank\" href=https://colab.research.google.com/notebooks/data_table.ipynb>data table notebook</a>'\n",
       "            + ' to learn more about interactive tables.';\n",
       "          element.innerHTML = '';\n",
       "          dataTable['output_type'] = 'display_data';\n",
       "          await google.colab.output.renderOutput(dataTable, element);\n",
       "          const docLink = document.createElement('div');\n",
       "          docLink.innerHTML = docLinkHtml;\n",
       "          element.appendChild(docLink);\n",
       "        }\n",
       "      </script>\n",
       "    </div>\n",
       "  </div>\n",
       "  "
      ],
      "text/plain": [
       "                      0\n",
       "0          Hamza Naveed\n",
       "1           Habib Ullah\n",
       "2          Hunain Javed\n",
       "3  Hafiz Malahim Labib.\n",
       "4   Hamna Tariq Saleemi\n",
       "5                  Hina\n",
       "6      Hamza Javed Khan\n",
       "7        Husnain Ahmed \n",
       "8      Hamayoun Masroor\n",
       "9         Hussain afzal"
      ]
     },
     "execution_count": 88,
     "metadata": {},
     "output_type": "execute_result"
    }
   ],
   "source": [
    "name_start_with = 'H'\n",
    "name_list=[]\n",
    "for name in dataframe['Name']:\n",
    "    if(name.find(name_start_with)==0):\n",
    "        name_list.append(name)\n",
    "name_dataframe = pd.DataFrame(name_list)\n",
    "name_dataframe"
   ]
  },
  {
   "cell_type": "code",
   "execution_count": null,
   "metadata": {
    "id": "0f6ZYPkBLEOx"
   },
   "outputs": [],
   "source": [
    "name_list2 = []\n",
    "for name in dataframe['Name']:\n",
    "    name = re.findall(r'(\\w+)(\\s)(\\w+)(\\s)(\\w+)', name)\n",
    "    if name != []:\n",
    "        stud_Name = {\"name\":name[0][0] + name[0][1] + name[0][2] + name[0][3] + name[0][4]}\n",
    "        name_list2.append(stud_Name)   \n",
    "dataframe2 = pd.DataFrame(name_list2)\n",
    "dataframe2"
   ]
  },
  {
   "cell_type": "code",
   "execution_count": 90,
   "metadata": {
    "colab": {
     "base_uri": "https://localhost:8080/"
    },
    "id": "7E_lykuwZPFN",
    "outputId": "cc79d573-56ad-45cb-df02-8c7b63b6501a"
   },
   "outputs": [
    {
     "name": "stdout",
     "output_type": "stream",
     "text": [
      "The percentage of students who have CGPA of 3.0 or above: 28.36%\n"
     ]
    }
   ],
   "source": [
    "count = 0\n",
    "for cgpa in dataframe['CGPA']:\n",
    "    if float(cgpa) >= 3.0:\n",
    "        count+=1\n",
    "        \n",
    "percentage = count/len(dataframe['CGPA']) *100\n",
    "\n",
    "print(\"The percentage of students who have CGPA of 3.0 or above: \" + str(float(\"{:.2f}\".format(percentage)))+\"%\")"
   ]
  },
  {
   "cell_type": "code",
   "execution_count": 44,
   "metadata": {
    "colab": {
     "base_uri": "https://localhost:8080/",
     "height": 248
    },
    "id": "2hCem71D-OlL",
    "outputId": "4521debf-3f4f-41f2-eafe-b33c66140655"
   },
   "outputs": [
    {
     "data": {
      "image/png": "[encoded data removed]",
      "text/plain": [
       "<Figure size 432x288 with 1 Axes>"
      ]
     },
     "metadata": {},
     "output_type": "display_data"
    }
   ],
   "source": [
    "num_male = 0\n",
    "num_female = 0\n",
    "\n",
    "for gender in dataframe['Gender']:\n",
    "    if gender == \"Male\":\n",
    "        num_male+=1\n",
    "    else:\n",
    "        num_female+=1\n",
    "\n",
    "labels = ['Male', 'Female']\n",
    "record = [num_male, num_female]\n",
    "plt.pie(record, labels = labels, autopct='%1.2f%%')\n",
    "plt.show()"
   ]
  },
  {
   "cell_type": "code",
   "execution_count": 92,
   "metadata": {
    "colab": {
     "base_uri": "https://localhost:8080/",
     "height": 295
    },
    "id": "Q_6jwxdxBcRb",
    "outputId": "94c7d74b-0ea1-4520-e5dc-8c4b7bdc62f9"
   },
   "outputs": [
    {
     "data": {
      "image/png": "[encoded data removed]",
      "text/plain": [
       "<Figure size 432x288 with 1 Axes>"
      ]
     },
     "metadata": {
      "needs_background": "light"
     },
     "output_type": "display_data"
    }
   ],
   "source": [
    "res_cgpa = []\n",
    "for cgpa2, gender in zip(dataframe['CGPA'], dataframe['Gender']):\n",
    "    if gender == 'Male':\n",
    "        res_cgpa.append(cgpa2)\n",
    "   \n",
    "plt.hist(res_cgpa, bins=[2, 2.5, 3.0, 3.5, 4], edgecolor = 'black')\n",
    "plt.title('CGPA of Male Students')\n",
    "plt.xlabel('CGPA Intervals')\n",
    "plt.ylabel('No. of Students')\n",
    "plt.show()"
   ]
  },
  {
   "cell_type": "code",
   "execution_count": 93,
   "metadata": {
    "colab": {
     "base_uri": "https://localhost:8080/",
     "height": 295
    },
    "id": "g707C7qHCyW3",
    "outputId": "e5c19b3c-60d8-4d74-970e-c25b08f4bdd9"
   },
   "outputs": [
    {
     "data": {
      "image/png": "[encoded data removed]",
      "text/plain": [
       "<Figure size 432x288 with 1 Axes>"
      ]
     },
     "metadata": {
      "needs_background": "light"
     },
     "output_type": "display_data"
    }
   ],
   "source": [
    "marks_Male = []\n",
    "marks_Female = []\n",
    "\n",
    "for gender, marks in zip(dataframe['Gender'], dataframe['HSSC-1']):\n",
    "    if gender == 'Male':\n",
    "        marks_Male.append(marks)\n",
    "    else:\n",
    "         marks_Female.append(marks)\n",
    "            \n",
    "i = 0\n",
    "mar = len(dataframe['HSSC-1']) - len(marks_Male)\n",
    "while (i < mar):\n",
    "    marks_Male.append('NaN')\n",
    "    i+=1\n",
    "\n",
    "i = 0\n",
    "mar = len(dataframe['HSSC-1']) - len(marks_Female)\n",
    "while (i < mar):\n",
    "    marks_Female.append('NaN')\n",
    "    i+=1\n",
    "    \n",
    "grades_int = dataframe['HSSC-1']\n",
    "plt.legend([\"Male\" , \"Female\"])\n",
    "plt.scatter(grades_int, marks_Male, marker='o')\n",
    "plt.scatter(grades_int,marks_Female, marker='x')\n",
    "plt.xlabel('Marks Obtained')\n",
    "plt.ylabel('Total Marks')\n",
    "plt.title(\"HSSC-1 marks of all male vs female students\")\n",
    "plt.show()\n"
   ]
  },
  {
   "cell_type": "code",
   "execution_count": 94,
   "metadata": {
    "colab": {
     "base_uri": "https://localhost:8080/",
     "height": 344
    },
    "id": "_TTJUY0UEFHc",
    "outputId": "7e88f95e-5d5c-46c5-af3f-aa6482e11446"
   },
   "outputs": [
    {
     "data": {
      "image/png": "[encoded data removed]",
      "text/plain": [
       "<Figure size 432x288 with 1 Axes>"
      ]
     },
     "metadata": {
      "needs_background": "light"
     },
     "output_type": "display_data"
    }
   ],
   "source": [
    "colors = dataframe['FavoriteColor'].unique()\n",
    "color_c = {\"Color\":colors}\n",
    "dataframe = pd.DataFrame(colors) \n",
    "dataframe = pd.DataFrame(color_c)\n",
    "\n",
    "male = []\n",
    "female = []\n",
    "for color in dataframe['Color']:\n",
    "    count_Male = 0\n",
    "    count_Female = 0\n",
    "    for color2, gndr in zip(dataframe['FavoriteColor'], dataframe['Gender']):\n",
    "        if color == color2:\n",
    "            if(gndr == \"Male\"):\n",
    "                count_Male+=1\n",
    "            else:\n",
    "                count_Female+=1\n",
    "    male.append(count_Male)\n",
    "    female.append(count_Female)\n",
    "    \n",
    "X_axis = np.arange(len(colors)) \n",
    "plt.bar(X_axis - 0.2, male, 0.4, label = 'Male')\n",
    "plt.bar(X_axis + 0.2, female, 0.4, label = 'Female') \n",
    "plt.xticks(X_axis, colors, rotation='vertical')\n",
    "plt.xlabel(\"Colors\")\n",
    "plt.ylabel(\"No. of Students\")\n",
    "plt.title(\"Favourite color of each Gender\")\n",
    "plt.legend()\n",
    "plt.show()"
   ]
  },
  {
   "cell_type": "code",
   "execution_count": 87,
   "metadata": {
    "colab": {
     "base_uri": "https://localhost:8080/",
     "height": 295
    },
    "id": "C-Mf0re2FaWL",
    "outputId": "dc54fca6-a40e-40f2-8757-3f5b66247a18"
   },
   "outputs": [
    {
     "data": {
      "image/png": "[encoded data removed]",
      "text/plain": [
       "<Figure size 432x288 with 1 Axes>"
      ]
     },
     "metadata": {
      "needs_background": "light"
     },
     "output_type": "display_data"
    }
   ],
   "source": [
    "res_month = [0, 0, 0, 0, 0, 0, 0, 0, 0, 0, 0, 0]\n",
    "\n",
    "for month in dataframe['BirthMonth']:\n",
    "    if month == 'January':\n",
    "        res_month[0] += 1\n",
    "    elif month == 'February':\n",
    "        res_month[1] += 1\n",
    "    elif month == 'March':\n",
    "        res_month[2] += 1\n",
    "    elif month == 'April':\n",
    "        res_month[3] += 1\n",
    "    elif month == 'May':\n",
    "        res_month[4] += 1\n",
    "    elif month == 'June':\n",
    "        res_month[5] += 1\n",
    "    elif month == 'July':\n",
    "        res_month[6] += 1\n",
    "    elif month == 'August':\n",
    "        res_month[7] += 1\n",
    "    elif month == 'September':\n",
    "        res_month[8] += 1\n",
    "    elif month == 'October':\n",
    "        res_month[9] += 1\n",
    "    elif month == 'November':\n",
    "        res_month[10] += 1\n",
    "    elif month == 'December':\n",
    "        res_month[11] += 1\n",
    "    \n",
    "x = np.arange(start=1, stop=13, step = 1)\n",
    "month_xticks = ['Jan','Feb','Mar','Apr', 'May', 'June', 'July', 'Aug', 'Sep', 'Oct', 'Nov', 'Dec']\n",
    "plt.xticks(x, month_xticks)\n",
    "plt.plot(x, res_month, marker='o')\n",
    "plt.title(\"Birth Months of Students\")\n",
    "plt.xlabel(\"Months\")\n",
    "plt.ylabel(\"No. of Students\")\n",
    "plt.grid(True)\n",
    "plt.show()"
   ]
  },
  {
   "cell_type": "code",
   "execution_count": 102,
   "metadata": {
    "colab": {
     "base_uri": "https://localhost:8080/",
     "height": 599
    },
    "id": "2Aj_9Gk0G3Uj",
    "outputId": "300182f7-9513-45d9-c91b-e097984a4404"
   },
   "outputs": [
    {
     "name": "stdout",
     "output_type": "stream",
     "text": [
      "HSSC-1 & HSSC-2 Marks: \n",
      "       x    y\n",
      "0    440  369\n",
      "1    415  408\n",
      "2    388  321\n",
      "3    412  440\n",
      "4    364  469\n",
      "..   ...  ...\n",
      "129  410  349\n",
      "130  403  390\n",
      "131  424  324\n",
      "132  351  423\n",
      "133  361  335\n",
      "\n",
      "[134 rows x 2 columns]\n",
      "Correlation matrix: \n",
      "          x         y\n",
      "x  1.000000  0.036607\n",
      "y  0.036607  1.000000\n"
     ]
    },
    {
     "data": {
      "image/png": "[encoded data removed]",
      "text/plain": [
       "<Figure size 432x288 with 1 Axes>"
      ]
     },
     "metadata": {
      "needs_background": "light"
     },
     "output_type": "display_data"
    }
   ],
   "source": [
    "x = np.array(dataframe['HSSC-1'])\n",
    "y = np.array(dataframe['HSSC-2'])\n",
    "\n",
    "data = {\n",
    "    'x': np.array(dataframe['HSSC-1']),\n",
    "    'y':  np.array(dataframe['HSSC-2'])\n",
    "}\n",
    "\n",
    "dataframe_hsscMarks = pd.DataFrame(data, columns=['x', 'y'])\n",
    "print(\"HSSC-1 & HSSC-2 Marks: \")\n",
    "print(dataframe_hsscMarks)\n",
    "matrix = dataframe_hsscMarks.corr()\n",
    "print(\"Correlation matrix: \")\n",
    "print(matrix)\n",
    "\n",
    "plt.imshow(matrix, cmap='YlGnBu', interpolation='nearest')\n",
    "plt.show()"
   ]
  }
 ],
 "metadata": {
  "colab": {
   "collapsed_sections": [],
   "provenance": []
  },
  "kernelspec": {
   "display_name": "Python 3 (ipykernel)",
   "language": "python",
   "name": "python3"
  },
  "language_info": {
   "codemirror_mode": {
    "name": "ipython",
    "version": 3
   },
   "file_extension": ".py",
   "mimetype": "text/x-python",
   "name": "python",
   "nbconvert_exporter": "python",
   "pygments_lexer": "ipython3",
   "version": "3.8.7"
  },
  "vscode": {
   "interpreter": {
    "hash": "d865dad18918e1687de4975e7ae1dab7de6cb981e484bbc5bc162f28e96eeee2"
   }
  }
 },
 "nbformat": 4,
 "nbformat_minor": 1
}
